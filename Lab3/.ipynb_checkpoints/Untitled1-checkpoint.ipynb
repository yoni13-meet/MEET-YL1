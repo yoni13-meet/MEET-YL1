{
 "metadata": {
  "name": ""
 },
 "nbformat": 3,
 "nbformat_minor": 0,
 "worksheets": [
  {
   "cells": [
    {
     "cell_type": "code",
     "collapsed": false,
     "input": [
      "import csv\n",
      "\n",
      "f = open('cigarettes.dat.csv', 'rb')\n",
      "reader = csv.reader(f)\n",
      "rownum = 0\n",
      "for row in reader:\n",
      "    if rownum == 0:\n",
      "        header = row\n",
      "    else:\n",
      "        print row\n",
      "    rownum += 1\n",
      "\n",
      "f.close()"
     ],
     "language": "python",
     "metadata": {},
     "outputs": [
      {
       "output_type": "stream",
       "stream": "stdout",
       "text": [
        "['Benson&Hedges\\t16.0 1.06 1.0938  16.6']\n",
        "['BullDurham\\t29.8 2.03 1.1650  23.5']\n",
        "['CamelLights\\t 8.0  .67  .9280  10.2']\n",
        "['Carlton\\t\\t 4.1  .40  .9462   5.4']\n",
        "['Chesterfield\\t15.0 1.04  .8885  15.0']\n",
        "['GoldenLights\\t 8.8  .76 1.0267   9.0']\n",
        "['Kent\\t\\t12.4  .95  .9225  12.3']\n",
        "['Kool\\t\\t16.6 1.12  .9372  16.3']\n",
        "['L&M\\t\\t14.9 1.02  .8858  15.4']\n",
        "['LarkLights\\t13.7 1.01  .9643  13.0']\n",
        "['Marlboro\\t15.1  .90  .9316  14.4']\n",
        "['Merit\\t\\t 7.8  .57  .9705  10.0']\n",
        "['MultiFilter\\t11.4  .78 1.1240  10.2']\n",
        "['NewportLights\\t 9.0  .74  .8517   9.5']\n",
        "['Now\\t\\t 1.0  .13  .7851   1.5']\n",
        "['OldGold\\t\\t17.0 1.26  .9186  18.5']\n",
        "['PallMallLight\\t12.8 1.08 1.0395  12.6']\n",
        "['Raleigh\\t\\t15.8  .96  .9573  17.5']\n",
        "['SalemUltra\\t 4.5  .42  .9106   4.9']\n",
        "['Tareyton\\t14.5 1.01 1.0070  15.9']\n",
        "['True\\t\\t 7.3  .61  .9806   8.5']\n",
        "['ViceroyRichLight 8.6  .69  .9693  10.6']\n",
        "['VirginiaSlims\\t15.2 1.02  .9496  13.9']\n",
        "['WinstonLights\\t12.0 .82  1.1184  14.9']\n"
       ]
      }
     ],
     "prompt_number": 12
    }
   ],
   "metadata": {}
  }
 ]
}