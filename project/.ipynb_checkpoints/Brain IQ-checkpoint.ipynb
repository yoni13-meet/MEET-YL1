{
 "metadata": {
  "name": ""
 },
 "nbformat": 3,
 "nbformat_minor": 0,
 "worksheets": [
  {
   "cells": [
    {
     "cell_type": "markdown",
     "metadata": {},
     "source": [
      "Yoni is awesome\n",
      "http://lib.stat.cmu.edu/datasets/IQ_Brain_Size\n",
      "\n",
      "FIQ: Full-Scale IQ\n",
      "HC: Head Circumference (cm)"
     ]
    },
    {
     "cell_type": "code",
     "collapsed": false,
     "input": [
      "\n",
      "\n",
      "\n",
      "import csv\n",
      "\n",
      "f = open('Brain_IQ.csv', 'rb')\n",
      "reader = csv.reader(f)\n",
      "rownum = 0\n",
      "fiq = []\n",
      "hc = []\n",
      "for row in reader:\n",
      "    row = row[0].replace(\"\\t\", \" \")\n",
      "    row = row.split()\n",
      "    #row = [row]\n",
      "    print row\n",
      "    fiq.append(float (row[1]))\n",
      "    hc.append(float (row[2]))\n",
      "print fiq\n",
      "print hc\n",
      "#print hc\n",
      "f.close()"
     ],
     "language": "python",
     "metadata": {},
     "outputs": [
      {
       "output_type": "stream",
       "stream": "stdout",
       "text": [
        "['6.08', '96', '54.7', '1', '1', '2', '1913.88', '1005', '57.607']\n",
        "['5.73', '89', '54.2', '2', '1', '2', '1684.89', '963', '58.968']\n",
        "['6.22', '87', '53', '1', '2', '2', '1902.36', '1035', '64.184']\n",
        "['5.8', '87', '52.9', '2', '2', '2', '1860.24', '1027', '58.514']\n",
        "['7.99', '101', '57.8', '1', '3', '2', '2264.25', '1281', '63.958']\n",
        "['8.42', '103', '56.9', '2', '3', '2', '2216.4', '1272', '61.69']\n",
        "['7.44', '103', '56.6', '1', '4', '2', '1866.99', '1051', '133.358']\n",
        "['6.84', '96', '55.3', '2', '4', '2', '1850.64', '1079', '107.503']\n",
        "['6.48', '127', '53.1', '1', '5', '2', '1743.04', '1034', '62.143']\n",
        "['6.43', '126', '54.8', '2', '5', '2', '1709.3', '1070', '83.009']\n",
        "['7.99', '101', '57.2', '2', '6', '1', '1689.6', '1173', '61.236']\n",
        "['8.76', '96', '57.2', '1', '6', '1', '1806.31', '1079', '61.236']\n",
        "['6.32', '93', '57.2', '2', '7', '1', '2136.37', '1067', '83.916']\n",
        "['6.32', '88', '57.2', '1', '7', '1', '2018.92', '1104', '79.38']\n",
        "['7.6', '94', '55.8', '2', '8', '1', '1966.81', '1347', '97.524']\n",
        "['7.62', '85', '57.2', '1', '8', '1', '2154.67', '1439', '99.792']\n",
        "['6.03', '97', '57.2', '1', '9', '1', '1767.56', '1029', '81.648']\n",
        "['6.59', '114', '56.5', '2', '9', '1', '1827.92', '1100', '88.452']\n",
        "['7.52', '113', '59.2', '2', '10', '1', '1773.83', '1204', '79.38']\n",
        "['7.67', '124', '58.5', '1', '10', '1', '1971.63', '1160', '72.576']\n",
        "[96.0, 89.0, 87.0, 87.0, 101.0, 103.0, 103.0, 96.0, 127.0, 126.0, 101.0, 96.0, 93.0, 88.0, 94.0, 85.0, 97.0, 114.0, 113.0, 124.0]\n",
        "[54.7, 54.2, 53.0, 52.9, 57.8, 56.9, 56.6, 55.3, 53.1, 54.8, 57.2, 57.2, 57.2, 57.2, 55.8, 57.2, 57.2, 56.5, 59.2, 58.5]\n"
       ]
      }
     ],
     "prompt_number": 37
    },
    {
     "cell_type": "code",
     "collapsed": false,
     "input": [
      "import pylab"
     ],
     "language": "python",
     "metadata": {},
     "outputs": [],
     "prompt_number": 20
    },
    {
     "cell_type": "code",
     "collapsed": false,
     "input": [
      "fig = plt.figure()\n",
      "ax = fig.add_subplot(111)\n",
      "ax.set_title('IQ & YOUR HEAD SIZE')\n",
      "ax.set_xlabel('Head Circumference (cm)')\n",
      "ax.set_ylabel('Full-Scale IQ')\n",
      "pylab.scatter(hc,fiq)\n",
      "fig.savefig(\"IQ_&_YOUR_HEAD_SIZE.png\")"
     ],
     "language": "python",
     "metadata": {},
     "outputs": [
      {
       "metadata": {},
       "output_type": "display_data",
       "png": "[encoded data removed]",
       "text": [
        "<matplotlib.figure.Figure at 0xa8e72ec>"
       ]
      }
     ],
     "prompt_number": 44
    },
    {
     "cell_type": "markdown",
     "metadata": {},
     "source": [
      "Your head circuference doesn't affect your IQ"
     ]
    },
    {
     "cell_type": "code",
     "collapsed": false,
     "input": [],
     "language": "python",
     "metadata": {},
     "outputs": []
    }
   ],
   "metadata": {}
  }
 ]
}